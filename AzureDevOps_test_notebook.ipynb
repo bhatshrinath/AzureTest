{
 "cells": [
  {
   "cell_type": "code",
   "execution_count": 53,
   "metadata": {
    "tags": []
   },
   "outputs": [
    {
     "output_type": "stream",
     "name": "stdout",
     "text": "Load Successful : Packages\n"
    }
   ],
   "source": [
    "#Setting location\n",
    "#_location = 'D:/productization_test/'\n",
    "\n",
    "#Importing Libraries\n",
    "import pandas as pd\n",
    "import numpy as np\n",
    "import pickle\n",
    "import datetime\n",
    "from sklearn.metrics import precision_recall_curve\n",
    "from sklearn.model_selection import StratifiedKFold\n",
    "import matplotlib.pyplot as plt\n",
    "from sklearn.ensemble import RandomForestClassifier\n",
    "from sklearn import model_selection,ensemble,metrics\n",
    "from sklearn.feature_selection import RFECV\n",
    "from sklearn.model_selection import GridSearchCV, RandomizedSearchCV\n",
    "from sklearn.metrics import roc_curve, precision_recall_curve, auc, make_scorer, recall_score, accuracy_score, precision_score, confusion_matrix\n",
    "import matplotlib.pyplot as plt\n",
    "import sys\n",
    "from sklearn.preprocessing import MinMaxScaler\n",
    "min_max_scaler = MinMaxScaler()\n",
    "%matplotlib inline\n",
    "print(\"Load Successful : Packages\")"
   ]
  },
  {
   "cell_type": "code",
   "execution_count": 54,
   "metadata": {},
   "outputs": [],
   "source": [
    "#Loading data\n",
    "train_data_a = pd.read_csv('Datacase1_PartA_Train.csv')\n",
    "test_data_a = pd.read_csv('Datacase1_PartA_Test.csv')\n",
    "data_b = pd.read_csv('Datacase1_PartB.csv')\n"
   ]
  },
  {
   "cell_type": "code",
   "execution_count": 55,
   "metadata": {},
   "outputs": [],
   "source": [
    "train_data_a['prediction_flag']=0\n",
    "test_data_a['prediction_flag']=1"
   ]
  },
  {
   "cell_type": "code",
   "execution_count": 56,
   "metadata": {},
   "outputs": [],
   "source": [
    "train_data_a.drop(columns=['Main_Incoming_Water'], inplace=True)"
   ]
  },
  {
   "cell_type": "code",
   "execution_count": 57,
   "metadata": {},
   "outputs": [],
   "source": [
    "clean_data=train_data_a.append(test_data_a)"
   ]
  },
  {
   "cell_type": "code",
   "execution_count": 58,
   "metadata": {},
   "outputs": [
    {
     "output_type": "execute_result",
     "data": {
      "text/plain": "['Observation_Id',\n 'Packed_Volume',\n 'Beer_Brewed_HG',\n 'Racked_Volume',\n 'Filter_Total_volume',\n 'Line_1_Packed_Volume',\n 'Line_2_Packed_Volume',\n 'Line_3_Packed_Volume',\n 'Line_4_Packed_Volume',\n 'Line_5_Packed_Volume',\n 'Line_6_Packed_Volume',\n 'prediction_flag']"
     },
     "metadata": {},
     "execution_count": 58
    }
   ],
   "source": [
    "list(clean_data)"
   ]
  },
  {
   "cell_type": "code",
   "execution_count": 59,
   "metadata": {},
   "outputs": [],
   "source": [
    "def outlier_treatment(datacolumn):\n",
    "                         sorted(datacolumn)\n",
    "                         Q1 = datacolumn.quantile(0.25)\n",
    "                         Q3 = datacolumn.quantile(0.75)\n",
    "                         IQR = Q3 - Q1\n",
    "                         lower_range = Q1 - (2 * IQR)\n",
    "                         upper_range = Q3 + (2 * IQR)\n",
    "                        \n",
    "                         return lower_range,upper_range"
   ]
  },
  {
   "cell_type": "code",
   "execution_count": 60,
   "metadata": {},
   "outputs": [],
   "source": [
    "lowerbound,upperbound = outlier_treatment(clean_data['Line_1_Packed_Volume'])\n",
    "med=clean_data['Line_1_Packed_Volume'].median()\n",
    "\n",
    "clean_data.loc[clean_data['Line_1_Packed_Volume']>upperbound, 'Line_1_Packed_Volume'] = med"
   ]
  },
  {
   "cell_type": "code",
   "execution_count": 61,
   "metadata": {},
   "outputs": [],
   "source": [
    "lowerbound,upperbound = outlier_treatment(clean_data['Packed_Volume'])\n",
    "med=clean_data['Packed_Volume'].median()\n",
    "\n",
    "clean_data.loc[clean_data['Packed_Volume']>upperbound, 'Packed_Volume'] = med"
   ]
  },
  {
   "cell_type": "code",
   "execution_count": 62,
   "metadata": {},
   "outputs": [],
   "source": [
    "lowerbound,upperbound = outlier_treatment(clean_data['Beer_Brewed_HG'])\n",
    "med=clean_data['Beer_Brewed_HG'].median()\n",
    "\n",
    "clean_data.loc[clean_data['Beer_Brewed_HG']>upperbound, 'Beer_Brewed_HG'] = med"
   ]
  },
  {
   "cell_type": "code",
   "execution_count": 63,
   "metadata": {},
   "outputs": [],
   "source": [
    "lowerbound,upperbound = outlier_treatment(clean_data['Racked_Volume'])\n",
    "med=clean_data['Racked_Volume'].median()\n",
    "\n",
    "clean_data.loc[clean_data['Racked_Volume']>upperbound, 'Racked_Volume'] = med"
   ]
  },
  {
   "cell_type": "code",
   "execution_count": 64,
   "metadata": {},
   "outputs": [],
   "source": [
    "lowerbound,upperbound = outlier_treatment(clean_data['Filter_Total_volume'])\n",
    "med=clean_data['Filter_Total_volume'].median()\n",
    "\n",
    "clean_data.loc[clean_data['Filter_Total_volume']>upperbound, 'Filter_Total_volume'] = med"
   ]
  },
  {
   "cell_type": "code",
   "execution_count": 65,
   "metadata": {},
   "outputs": [],
   "source": [
    "lowerbound,upperbound = outlier_treatment(clean_data['Line_2_Packed_Volume'])\n",
    "med=clean_data['Line_2_Packed_Volume'].median()\n",
    "\n",
    "clean_data.loc[clean_data['Line_2_Packed_Volume']>upperbound, 'Line_2_Packed_Volume'] = med"
   ]
  },
  {
   "cell_type": "code",
   "execution_count": 66,
   "metadata": {},
   "outputs": [],
   "source": [
    "lowerbound,upperbound = outlier_treatment(clean_data['Line_3_Packed_Volume'])\n",
    "med=clean_data['Line_3_Packed_Volume'].median()\n",
    "\n",
    "clean_data.loc[clean_data['Line_3_Packed_Volume']>upperbound, 'Line_3_Packed_Volume'] = med"
   ]
  },
  {
   "cell_type": "code",
   "execution_count": 67,
   "metadata": {},
   "outputs": [],
   "source": [
    "lowerbound,upperbound = outlier_treatment(clean_data['Line_4_Packed_Volume'])\n",
    "med=clean_data['Line_4_Packed_Volume'].median()\n",
    "\n",
    "clean_data.loc[clean_data['Line_4_Packed_Volume']>upperbound, 'Line_4_Packed_Volume'] = med"
   ]
  },
  {
   "cell_type": "code",
   "execution_count": 68,
   "metadata": {},
   "outputs": [],
   "source": [
    "lowerbound,upperbound = outlier_treatment(clean_data['Line_5_Packed_Volume'])\n",
    "med=clean_data['Line_5_Packed_Volume'].median()\n",
    "\n",
    "clean_data.loc[clean_data['Line_5_Packed_Volume']>upperbound, 'Line_5_Packed_Volume'] = med"
   ]
  },
  {
   "cell_type": "code",
   "execution_count": 69,
   "metadata": {},
   "outputs": [],
   "source": [
    "lowerbound,upperbound = outlier_treatment(clean_data['Line_6_Packed_Volume'])\n",
    "med=clean_data['Line_6_Packed_Volume'].median()\n",
    "\n",
    "clean_data.loc[clean_data['Line_6_Packed_Volume']>upperbound, 'Line_6_Packed_Volume'] = med"
   ]
  },
  {
   "cell_type": "code",
   "execution_count": 70,
   "metadata": {},
   "outputs": [],
   "source": [
    "clean_data['Packed_Volume']=clean_data['Packed_Volume'].fillna(clean_data['Packed_Volume'].median())\n",
    "clean_data['Beer_Brewed_HG']=clean_data['Beer_Brewed_HG'].fillna(clean_data['Beer_Brewed_HG'].median())\n",
    "clean_data['Racked_Volume']=clean_data['Racked_Volume'].fillna(clean_data['Racked_Volume'].median())\n",
    "clean_data['Filter_Total_volume']=clean_data['Filter_Total_volume'].fillna(clean_data['Filter_Total_volume'].median())\n",
    "clean_data['Line_1_Packed_Volume']=clean_data['Line_1_Packed_Volume'].fillna(clean_data['Line_1_Packed_Volume'].median())\n",
    "clean_data['Line_2_Packed_Volume']=clean_data['Line_2_Packed_Volume'].fillna(clean_data['Line_2_Packed_Volume'].median())\n",
    "clean_data['Line_3_Packed_Volume']=clean_data['Line_3_Packed_Volume'].fillna(clean_data['Line_3_Packed_Volume'].median())\n",
    "clean_data['Line_4_Packed_Volume']=clean_data['Line_4_Packed_Volume'].fillna(clean_data['Line_4_Packed_Volume'].median())\n",
    "clean_data['Line_5_Packed_Volume']=clean_data['Line_5_Packed_Volume'].fillna(clean_data['Line_5_Packed_Volume'].median())\n",
    "clean_data['Line_6_Packed_Volume']=clean_data['Line_6_Packed_Volume'].fillna(clean_data['Line_6_Packed_Volume'].median())\n",
    "clean_data=clean_data.fillna(0)"
   ]
  },
  {
   "cell_type": "code",
   "execution_count": 71,
   "metadata": {},
   "outputs": [],
   "source": [
    "#clean_data.to_csv(_location+'clean_test_train_data.csv')"
   ]
  },
  {
   "cell_type": "code",
   "execution_count": 72,
   "metadata": {},
   "outputs": [
    {
     "output_type": "execute_result",
     "data": {
      "text/plain": "['Observation_Id',\n 'Packed_Volume',\n 'Beer_Brewed_HG',\n 'Racked_Volume',\n 'Filter_Total_volume',\n 'Line_1_Packed_Volume',\n 'Line_2_Packed_Volume',\n 'Line_3_Packed_Volume',\n 'Line_4_Packed_Volume',\n 'Line_5_Packed_Volume',\n 'Line_6_Packed_Volume',\n 'prediction_flag']"
     },
     "metadata": {},
     "execution_count": 72
    }
   ],
   "source": [
    "list(clean_data)"
   ]
  },
  {
   "cell_type": "code",
   "execution_count": 73,
   "metadata": {},
   "outputs": [
    {
     "output_type": "execute_result",
     "data": {
      "text/plain": "  Observation_Id  Packed_Volume  Beer_Brewed_HG  Racked_Volume  \\\n0      OBS100001        3416.00          7201.5         9084.0   \n1      OBS100002       23659.00         19939.0        17673.0   \n2      OBS100003       10920.00          7236.0         2972.0   \n3      OBS100004       16959.00         14558.5         6428.0   \n4      OBS100005       10445.77         15142.0        10193.0   \n\n   Filter_Total_volume  Line_1_Packed_Volume  Line_2_Packed_Volume  \\\n0              12037.0                   0.0                   0.0   \n1              22538.0                4870.0                1249.0   \n2              12694.0                4610.0                1939.0   \n3              24529.0                3854.0                   0.0   \n4              11571.0                3262.0                   0.0   \n\n   Line_3_Packed_Volume  Line_4_Packed_Volume  Line_5_Packed_Volume  \\\n0                   0.0               3416.00                   0.0   \n1                5211.0               4958.00                7134.0   \n2                   0.0               4460.00                   0.0   \n3                6248.0               2175.75                4132.0   \n4                   0.0                  0.00                7183.0   \n\n   Line_6_Packed_Volume  prediction_flag  \n0                   0.0                0  \n1                3423.0                0  \n2                4966.0                0  \n3                2622.0                0  \n4                   0.0                0  ",
      "text/html": "<div>\n<style scoped>\n    .dataframe tbody tr th:only-of-type {\n        vertical-align: middle;\n    }\n\n    .dataframe tbody tr th {\n        vertical-align: top;\n    }\n\n    .dataframe thead th {\n        text-align: right;\n    }\n</style>\n<table border=\"1\" class=\"dataframe\">\n  <thead>\n    <tr style=\"text-align: right;\">\n      <th></th>\n      <th>Observation_Id</th>\n      <th>Packed_Volume</th>\n      <th>Beer_Brewed_HG</th>\n      <th>Racked_Volume</th>\n      <th>Filter_Total_volume</th>\n      <th>Line_1_Packed_Volume</th>\n      <th>Line_2_Packed_Volume</th>\n      <th>Line_3_Packed_Volume</th>\n      <th>Line_4_Packed_Volume</th>\n      <th>Line_5_Packed_Volume</th>\n      <th>Line_6_Packed_Volume</th>\n      <th>prediction_flag</th>\n    </tr>\n  </thead>\n  <tbody>\n    <tr>\n      <th>0</th>\n      <td>OBS100001</td>\n      <td>3416.00</td>\n      <td>7201.5</td>\n      <td>9084.0</td>\n      <td>12037.0</td>\n      <td>0.0</td>\n      <td>0.0</td>\n      <td>0.0</td>\n      <td>3416.00</td>\n      <td>0.0</td>\n      <td>0.0</td>\n      <td>0</td>\n    </tr>\n    <tr>\n      <th>1</th>\n      <td>OBS100002</td>\n      <td>23659.00</td>\n      <td>19939.0</td>\n      <td>17673.0</td>\n      <td>22538.0</td>\n      <td>4870.0</td>\n      <td>1249.0</td>\n      <td>5211.0</td>\n      <td>4958.00</td>\n      <td>7134.0</td>\n      <td>3423.0</td>\n      <td>0</td>\n    </tr>\n    <tr>\n      <th>2</th>\n      <td>OBS100003</td>\n      <td>10920.00</td>\n      <td>7236.0</td>\n      <td>2972.0</td>\n      <td>12694.0</td>\n      <td>4610.0</td>\n      <td>1939.0</td>\n      <td>0.0</td>\n      <td>4460.00</td>\n      <td>0.0</td>\n      <td>4966.0</td>\n      <td>0</td>\n    </tr>\n    <tr>\n      <th>3</th>\n      <td>OBS100004</td>\n      <td>16959.00</td>\n      <td>14558.5</td>\n      <td>6428.0</td>\n      <td>24529.0</td>\n      <td>3854.0</td>\n      <td>0.0</td>\n      <td>6248.0</td>\n      <td>2175.75</td>\n      <td>4132.0</td>\n      <td>2622.0</td>\n      <td>0</td>\n    </tr>\n    <tr>\n      <th>4</th>\n      <td>OBS100005</td>\n      <td>10445.77</td>\n      <td>15142.0</td>\n      <td>10193.0</td>\n      <td>11571.0</td>\n      <td>3262.0</td>\n      <td>0.0</td>\n      <td>0.0</td>\n      <td>0.00</td>\n      <td>7183.0</td>\n      <td>0.0</td>\n      <td>0</td>\n    </tr>\n  </tbody>\n</table>\n</div>"
     },
     "metadata": {},
     "execution_count": 73
    }
   ],
   "source": [
    "clean_data.head(5)"
   ]
  },
  {
   "cell_type": "code",
   "execution_count": 74,
   "metadata": {},
   "outputs": [],
   "source": [
    "clean_data['pct_Line_1_Packed_Volume']=clean_data['Line_1_Packed_Volume']/clean_data['Packed_Volume']\n",
    "clean_data['pct_Line_2_Packed_Volume']=clean_data['Line_2_Packed_Volume']/clean_data['Packed_Volume']\n",
    "clean_data['pct_Line_3_Packed_Volume']=clean_data['Line_3_Packed_Volume']/clean_data['Packed_Volume']\n",
    "clean_data['pct_Line_4_Packed_Volume']=clean_data['Line_4_Packed_Volume']/clean_data['Packed_Volume']\n",
    "clean_data['pct_Line_5_Packed_Volume']=clean_data['Line_5_Packed_Volume']/clean_data['Packed_Volume']\n",
    "clean_data['pct_Line_6_Packed_Volume']=clean_data['Line_6_Packed_Volume']/clean_data['Packed_Volume']\n",
    "\n",
    "\n"
   ]
  },
  {
   "cell_type": "code",
   "execution_count": 75,
   "metadata": {},
   "outputs": [],
   "source": [
    "clean_data['pct_Packed_Volume_Beer_Brewed_HG']=clean_data['Packed_Volume']/clean_data['Beer_Brewed_HG']\n",
    "clean_data['pct_Packed_Volume_Filter_Total_volume']=clean_data['Packed_Volume']/clean_data['Filter_Total_volume']\n",
    "clean_data['pct_Packed_Volume_Racked_Volume']=clean_data['Packed_Volume']/clean_data['Racked_Volume']\n",
    "clean_data['pct_Beer_Brewed_HG_Filter_Total_volume']=clean_data['Beer_Brewed_HG']/clean_data['Filter_Total_volume']\n",
    "clean_data['pct_Beer_Brewed_HG_Racked_Volume']=clean_data['Beer_Brewed_HG']/clean_data['Racked_Volume']\n",
    "clean_data['pct_Filter_Total_volume_Racked_Volume']=clean_data['Filter_Total_volume']/clean_data['Racked_Volume']"
   ]
  },
  {
   "cell_type": "code",
   "execution_count": 76,
   "metadata": {},
   "outputs": [],
   "source": [
    "clean_data['Line_Packed_Volume_agg']=(clean_data['Line_1_Packed_Volume']+clean_data['Line_2_Packed_Volume']+clean_data['Line_3_Packed_Volume']+clean_data['Line_4_Packed_Volume']+clean_data['Line_5_Packed_Volume']+clean_data['Line_6_Packed_Volume'])/6\n",
    "clean_data['Line_Volume_net']=clean_data['Packed_Volume']-(clean_data['Line_1_Packed_Volume']+clean_data['Line_2_Packed_Volume']+clean_data['Line_3_Packed_Volume']+clean_data['Line_4_Packed_Volume']+clean_data['Line_5_Packed_Volume']+clean_data['Line_6_Packed_Volume'])"
   ]
  },
  {
   "cell_type": "code",
   "execution_count": 77,
   "metadata": {},
   "outputs": [],
   "source": [
    "clean_data['pct_Line_1_Beer_Brewed_HG']=clean_data['Line_1_Packed_Volume']/clean_data['Beer_Brewed_HG']\n",
    "clean_data['pct_Line_2_Beer_Brewed_HG']=clean_data['Line_2_Packed_Volume']/clean_data['Beer_Brewed_HG']\n",
    "clean_data['pct_Line_3_Beer_Brewed_HG']=clean_data['Line_3_Packed_Volume']/clean_data['Beer_Brewed_HG']\n",
    "clean_data['pct_Line_4_Beer_Brewed_HG']=clean_data['Line_4_Packed_Volume']/clean_data['Beer_Brewed_HG']\n",
    "clean_data['pct_Line_5_Beer_Brewed_HG']=clean_data['Line_5_Packed_Volume']/clean_data['Beer_Brewed_HG']\n",
    "clean_data['pct_Line_6_Beer_Brewed_HG']=clean_data['Line_6_Packed_Volume']/clean_data['Beer_Brewed_HG']\n"
   ]
  },
  {
   "cell_type": "code",
   "execution_count": 78,
   "metadata": {},
   "outputs": [],
   "source": [
    "clean_data['pct_Line_1_Filter_Total_volume']=clean_data['Line_1_Packed_Volume']/clean_data['Filter_Total_volume']\n",
    "clean_data['pct_Line_2_Filter_Total_volume']=clean_data['Line_2_Packed_Volume']/clean_data['Filter_Total_volume']\n",
    "clean_data['pct_Line_3_Filter_Total_volume']=clean_data['Line_3_Packed_Volume']/clean_data['Filter_Total_volume']\n",
    "clean_data['pct_Line_4_Filter_Total_volume']=clean_data['Line_4_Packed_Volume']/clean_data['Filter_Total_volume']\n",
    "clean_data['pct_Line_5_Filter_Total_volume']=clean_data['Line_5_Packed_Volume']/clean_data['Filter_Total_volume']\n",
    "clean_data['pct_Line_6_Filter_Total_volume']=clean_data['Line_6_Packed_Volume']/clean_data['Filter_Total_volume']\n"
   ]
  },
  {
   "cell_type": "code",
   "execution_count": 79,
   "metadata": {},
   "outputs": [],
   "source": [
    "clean_data['pct_Line_1_Racked_Volume']=clean_data['Line_1_Packed_Volume']/clean_data['Racked_Volume']\n",
    "clean_data['pct_Line_2_Racked_Volume']=clean_data['Line_2_Packed_Volume']/clean_data['Racked_Volume']\n",
    "clean_data['pct_Line_3_Racked_Volume']=clean_data['Line_3_Packed_Volume']/clean_data['Racked_Volume']\n",
    "clean_data['pct_Line_4_Racked_Volume']=clean_data['Line_4_Packed_Volume']/clean_data['Racked_Volume']\n",
    "clean_data['pct_Line_5_Racked_Volume']=clean_data['Line_5_Packed_Volume']/clean_data['Racked_Volume']\n",
    "clean_data['pct_Line_6_Racked_Volume']=clean_data['Line_6_Packed_Volume']/clean_data['Racked_Volume']\n"
   ]
  },
  {
   "cell_type": "code",
   "execution_count": 80,
   "metadata": {},
   "outputs": [
    {
     "output_type": "execute_result",
     "data": {
      "text/plain": "['Observation_Id',\n 'Packed_Volume',\n 'Beer_Brewed_HG',\n 'Racked_Volume',\n 'Filter_Total_volume',\n 'Line_1_Packed_Volume',\n 'Line_2_Packed_Volume',\n 'Line_3_Packed_Volume',\n 'Line_4_Packed_Volume',\n 'Line_5_Packed_Volume',\n 'Line_6_Packed_Volume',\n 'prediction_flag',\n 'pct_Line_1_Packed_Volume',\n 'pct_Line_2_Packed_Volume',\n 'pct_Line_3_Packed_Volume',\n 'pct_Line_4_Packed_Volume',\n 'pct_Line_5_Packed_Volume',\n 'pct_Line_6_Packed_Volume',\n 'pct_Packed_Volume_Beer_Brewed_HG',\n 'pct_Packed_Volume_Filter_Total_volume',\n 'pct_Packed_Volume_Racked_Volume',\n 'pct_Beer_Brewed_HG_Filter_Total_volume',\n 'pct_Beer_Brewed_HG_Racked_Volume',\n 'pct_Filter_Total_volume_Racked_Volume',\n 'Line_Packed_Volume_agg',\n 'Line_Volume_net',\n 'pct_Line_1_Beer_Brewed_HG',\n 'pct_Line_2_Beer_Brewed_HG',\n 'pct_Line_3_Beer_Brewed_HG',\n 'pct_Line_4_Beer_Brewed_HG',\n 'pct_Line_5_Beer_Brewed_HG',\n 'pct_Line_6_Beer_Brewed_HG',\n 'pct_Line_1_Filter_Total_volume',\n 'pct_Line_2_Filter_Total_volume',\n 'pct_Line_3_Filter_Total_volume',\n 'pct_Line_4_Filter_Total_volume',\n 'pct_Line_5_Filter_Total_volume',\n 'pct_Line_6_Filter_Total_volume',\n 'pct_Line_1_Racked_Volume',\n 'pct_Line_2_Racked_Volume',\n 'pct_Line_3_Racked_Volume',\n 'pct_Line_4_Racked_Volume',\n 'pct_Line_5_Racked_Volume',\n 'pct_Line_6_Racked_Volume']"
     },
     "metadata": {},
     "execution_count": 80
    }
   ],
   "source": [
    "list(clean_data)"
   ]
  },
  {
   "cell_type": "code",
   "execution_count": 81,
   "metadata": {},
   "outputs": [],
   "source": [
    "clean_data['pct_change_Packed_Volume_Beer_Brewed_HG']=(clean_data['Packed_Volume']-clean_data['Beer_Brewed_HG'])/clean_data['Beer_Brewed_HG']\n",
    "clean_data['pct_change_Packed_Volume_Filter_Total_volume']=(clean_data['Packed_Volume']-clean_data['Filter_Total_volume'])/clean_data['Filter_Total_volume']\n",
    "clean_data['pct_change_Packed_Volume_Racked_Volume']=(clean_data['Packed_Volume']-clean_data['Racked_Volume'])/clean_data['Racked_Volume']\n",
    "clean_data['pct_change_Beer_Brewed_HG_Filter_Total_volume']=(clean_data['Beer_Brewed_HG']-clean_data['Filter_Total_volume'])/clean_data['Filter_Total_volume']\n",
    "clean_data['pct_change_Beer_Brewed_HG_Racked_Volume']=(clean_data['Beer_Brewed_HG']-clean_data['Racked_Volume'])/clean_data['Racked_Volume']\n",
    "clean_data['pct_change_Filter_Total_volume_Racked_Volume']=(clean_data['Filter_Total_volume']-clean_data['Racked_Volume'])/clean_data['Racked_Volume']"
   ]
  },
  {
   "cell_type": "code",
   "execution_count": 82,
   "metadata": {},
   "outputs": [],
   "source": [
    "clean_data['pct_change_Line_1_Filter_Total_volume']=(clean_data['Line_1_Packed_Volume']-clean_data['Filter_Total_volume'])/clean_data['Filter_Total_volume']\n",
    "clean_data['pct_change_Line_2_Filter_Total_volume']=(clean_data['Line_2_Packed_Volume']-clean_data['Filter_Total_volume'])/clean_data['Filter_Total_volume']\n",
    "clean_data['pct_change_Line_3_Filter_Total_volume']=(clean_data['Line_3_Packed_Volume']-clean_data['Filter_Total_volume'])/clean_data['Filter_Total_volume']\n",
    "clean_data['pct_change_Line_4_Filter_Total_volume']=(clean_data['Line_4_Packed_Volume']-clean_data['Filter_Total_volume'])/clean_data['Filter_Total_volume']\n",
    "clean_data['pct_change_Line_5_Filter_Total_volume']=(clean_data['Line_5_Packed_Volume']-clean_data['Filter_Total_volume'])/clean_data['Filter_Total_volume']\n",
    "clean_data['pct_change_Line_6_Filter_Total_volume']=(clean_data['Line_6_Packed_Volume']-clean_data['Filter_Total_volume'])/clean_data['Filter_Total_volume']\n",
    "\n",
    "clean_data['pct_change_Line_1_Beer_Brewed_HG']=(clean_data['Line_1_Packed_Volume']-clean_data['Beer_Brewed_HG'])/clean_data['Beer_Brewed_HG']\n",
    "clean_data['pct_change_Line_2_Beer_Brewed_HG']=(clean_data['Line_2_Packed_Volume']-clean_data['Beer_Brewed_HG'])/clean_data['Beer_Brewed_HG']\n",
    "clean_data['pct_change_Line_3_Filter_Beer_Brewed_HG']=(clean_data['Line_3_Packed_Volume']-clean_data['Beer_Brewed_HG'])/clean_data['Beer_Brewed_HG']\n",
    "clean_data['pct_change_Line_4_Filter_Beer_Brewed_HG']=(clean_data['Line_4_Packed_Volume']-clean_data['Beer_Brewed_HG'])/clean_data['Beer_Brewed_HG']\n",
    "clean_data['pct_change_Line_5_Filter_Beer_Brewed_HG']=(clean_data['Line_5_Packed_Volume']-clean_data['Beer_Brewed_HG'])/clean_data['Beer_Brewed_HG']\n",
    "clean_data['pct_change_Line_6_Filter_Beer_Brewed_HG']=(clean_data['Line_6_Packed_Volume']-clean_data['Beer_Brewed_HG'])/clean_data['Beer_Brewed_HG']\n",
    "\n",
    "clean_data['pct_change_Line_1_Packed_Volume']=(clean_data['Line_1_Packed_Volume']-clean_data['Packed_Volume'])/clean_data['Packed_Volume']\n",
    "clean_data['pct_change_Line_2_Packed_Volume']=(clean_data['Line_2_Packed_Volume']-clean_data['Packed_Volume'])/clean_data['Packed_Volume']\n",
    "clean_data['pct_change_Line_3_Packed_Volume']=(clean_data['Line_3_Packed_Volume']-clean_data['Packed_Volume'])/clean_data['Packed_Volume']\n",
    "clean_data['pct_change_Line_4_Packed_Volume']=(clean_data['Line_4_Packed_Volume']-clean_data['Packed_Volume'])/clean_data['Packed_Volume']\n",
    "clean_data['pct_change_Line_5_Packed_Volume']=(clean_data['Line_5_Packed_Volume']-clean_data['Packed_Volume'])/clean_data['Packed_Volume']\n",
    "clean_data['pct_change_Line_6_Packed_Volume']=(clean_data['Line_6_Packed_Volume']-clean_data['Packed_Volume'])/clean_data['Packed_Volume']\n",
    "\n",
    "clean_data['pct_change_Line_1_Racked_Volume']=(clean_data['Line_1_Packed_Volume']-clean_data['Racked_Volume'])/clean_data['Racked_Volume']\n",
    "clean_data['pct_change_Line_2_Racked_Volume']=(clean_data['Line_2_Packed_Volume']-clean_data['Racked_Volume'])/clean_data['Racked_Volume']\n",
    "clean_data['pct_change_Line_3_Racked_Volume']=(clean_data['Line_3_Packed_Volume']-clean_data['Racked_Volume'])/clean_data['Racked_Volume']\n",
    "clean_data['pct_change_Line_4_Racked_Volume']=(clean_data['Line_4_Packed_Volume']-clean_data['Racked_Volume'])/clean_data['Racked_Volume']\n",
    "clean_data['pct_change_Line_5_Racked_Volume']=(clean_data['Line_5_Packed_Volume']-clean_data['Racked_Volume'])/clean_data['Racked_Volume']\n",
    "clean_data['pct_change_Line_6_Racked_Volume']=(clean_data['Line_6_Packed_Volume']-clean_data['Racked_Volume'])/clean_data['Racked_Volume']\n"
   ]
  },
  {
   "cell_type": "code",
   "execution_count": 83,
   "metadata": {},
   "outputs": [],
   "source": [
    "clean_data['diff_Packed_Volume_Beer_Brewed_HG']=clean_data['Packed_Volume']/clean_data['Beer_Brewed_HG']\n",
    "clean_data['diff_Packed_Volume_Filter_Total_volume']=clean_data['Packed_Volume']/clean_data['Filter_Total_volume']\n",
    "clean_data['diff_Packed_Volume_Racked_Volume']=clean_data['Packed_Volume']/clean_data['Racked_Volume']\n",
    "clean_data['diff_Beer_Brewed_HG_Filter_Total_volume']=clean_data['Beer_Brewed_HG']/clean_data['Filter_Total_volume']\n",
    "clean_data['diff_Beer_Brewed_HG_Racked_Volume']=clean_data['Beer_Brewed_HG']/clean_data['Racked_Volume']\n",
    "clean_data['diff_Filter_Total_volume_Racked_Volume']=clean_data['Filter_Total_volume']/clean_data['Racked_Volume']"
   ]
  },
  {
   "cell_type": "code",
   "execution_count": 84,
   "metadata": {},
   "outputs": [],
   "source": [
    "clean_data['racked-brewed'] = clean_data['Racked_Volume'] - clean_data['Beer_Brewed_HG']\n",
    "clean_data['racked-brewed_modified'] = clean_data['racked-brewed']\n",
    "clean_data.loc[clean_data['racked-brewed_modified']<0,['racked-brewed_modified']]=0\n",
    "clean_data['racked_by_brewed'] = clean_data['Racked_Volume']/clean_data['Beer_Brewed_HG']"
   ]
  },
  {
   "cell_type": "code",
   "execution_count": 85,
   "metadata": {},
   "outputs": [],
   "source": [
    "clean_data['filtered-racked'] = clean_data['Filter_Total_volume'] - clean_data['Racked_Volume']\n",
    "clean_data['filtered-racked_modified'] = clean_data['filtered-racked']\n",
    "clean_data.loc[clean_data['filtered-racked_modified']<0,['filtered-racked_modified']]=0\n",
    "clean_data['filtered_by_racked'] = clean_data['Filter_Total_volume']/clean_data['Racked_Volume']"
   ]
  },
  {
   "cell_type": "code",
   "execution_count": 86,
   "metadata": {},
   "outputs": [],
   "source": [
    "clean_data['Line_7_Packed_Volume_modified'] = clean_data['Line_Volume_net']\n",
    "clean_data.loc[clean_data['Line_7_Packed_Volume_modified']<0,['Line_7_Packed_Volume_modified']]=0"
   ]
  },
  {
   "cell_type": "code",
   "execution_count": 87,
   "metadata": {},
   "outputs": [],
   "source": [
    "clean_data['Line7_by_brewed'] = clean_data['Line_Volume_net']/clean_data['Beer_Brewed_HG']"
   ]
  },
  {
   "cell_type": "code",
   "execution_count": 88,
   "metadata": {},
   "outputs": [],
   "source": [
    "clean_data=clean_data.replace([np.inf, -np.inf], np.nan)\n",
    "data_ads=clean_data"
   ]
  },
  {
   "cell_type": "code",
   "execution_count": 89,
   "metadata": {
    "tags": []
   },
   "outputs": [
    {
     "output_type": "stream",
     "name": "stdout",
     "text": "data_train\n(Rows, Columns) : (2500, 88)\ndata_predict\n(Rows, Columns) : (503, 88)\n"
    }
   ],
   "source": [
    "data_train=data_ads[data_ads.prediction_flag==0].reset_index(drop=True)\n",
    "data_predict=data_ads[data_ads.prediction_flag==1].reset_index(drop=True)\n",
    "print(\"data_train\\n(Rows, Columns) : \"+str(data_train.shape))\n",
    "print(\"data_predict\\n(Rows, Columns) : \"+str(data_predict.shape))"
   ]
  },
  {
   "cell_type": "code",
   "execution_count": 90,
   "metadata": {},
   "outputs": [
    {
     "output_type": "execute_result",
     "data": {
      "text/plain": "['Observation_Id',\n 'Packed_Volume',\n 'Beer_Brewed_HG',\n 'Racked_Volume',\n 'Filter_Total_volume',\n 'Line_1_Packed_Volume',\n 'Line_2_Packed_Volume',\n 'Line_3_Packed_Volume',\n 'Line_4_Packed_Volume',\n 'Line_5_Packed_Volume',\n 'Line_6_Packed_Volume',\n 'prediction_flag',\n 'pct_Line_1_Packed_Volume',\n 'pct_Line_2_Packed_Volume',\n 'pct_Line_3_Packed_Volume',\n 'pct_Line_4_Packed_Volume',\n 'pct_Line_5_Packed_Volume',\n 'pct_Line_6_Packed_Volume',\n 'pct_Packed_Volume_Beer_Brewed_HG',\n 'pct_Packed_Volume_Filter_Total_volume',\n 'pct_Packed_Volume_Racked_Volume',\n 'pct_Beer_Brewed_HG_Filter_Total_volume',\n 'pct_Beer_Brewed_HG_Racked_Volume',\n 'pct_Filter_Total_volume_Racked_Volume',\n 'Line_Packed_Volume_agg',\n 'Line_Volume_net',\n 'pct_Line_1_Beer_Brewed_HG',\n 'pct_Line_2_Beer_Brewed_HG',\n 'pct_Line_3_Beer_Brewed_HG',\n 'pct_Line_4_Beer_Brewed_HG',\n 'pct_Line_5_Beer_Brewed_HG',\n 'pct_Line_6_Beer_Brewed_HG',\n 'pct_Line_1_Filter_Total_volume',\n 'pct_Line_2_Filter_Total_volume',\n 'pct_Line_3_Filter_Total_volume',\n 'pct_Line_4_Filter_Total_volume',\n 'pct_Line_5_Filter_Total_volume',\n 'pct_Line_6_Filter_Total_volume',\n 'pct_Line_1_Racked_Volume',\n 'pct_Line_2_Racked_Volume',\n 'pct_Line_3_Racked_Volume',\n 'pct_Line_4_Racked_Volume',\n 'pct_Line_5_Racked_Volume',\n 'pct_Line_6_Racked_Volume',\n 'pct_change_Packed_Volume_Beer_Brewed_HG',\n 'pct_change_Packed_Volume_Filter_Total_volume',\n 'pct_change_Packed_Volume_Racked_Volume',\n 'pct_change_Beer_Brewed_HG_Filter_Total_volume',\n 'pct_change_Beer_Brewed_HG_Racked_Volume',\n 'pct_change_Filter_Total_volume_Racked_Volume',\n 'pct_change_Line_1_Filter_Total_volume',\n 'pct_change_Line_2_Filter_Total_volume',\n 'pct_change_Line_3_Filter_Total_volume',\n 'pct_change_Line_4_Filter_Total_volume',\n 'pct_change_Line_5_Filter_Total_volume',\n 'pct_change_Line_6_Filter_Total_volume',\n 'pct_change_Line_1_Beer_Brewed_HG',\n 'pct_change_Line_2_Beer_Brewed_HG',\n 'pct_change_Line_3_Filter_Beer_Brewed_HG',\n 'pct_change_Line_4_Filter_Beer_Brewed_HG',\n 'pct_change_Line_5_Filter_Beer_Brewed_HG',\n 'pct_change_Line_6_Filter_Beer_Brewed_HG',\n 'pct_change_Line_1_Packed_Volume',\n 'pct_change_Line_2_Packed_Volume',\n 'pct_change_Line_3_Packed_Volume',\n 'pct_change_Line_4_Packed_Volume',\n 'pct_change_Line_5_Packed_Volume',\n 'pct_change_Line_6_Packed_Volume',\n 'pct_change_Line_1_Racked_Volume',\n 'pct_change_Line_2_Racked_Volume',\n 'pct_change_Line_3_Racked_Volume',\n 'pct_change_Line_4_Racked_Volume',\n 'pct_change_Line_5_Racked_Volume',\n 'pct_change_Line_6_Racked_Volume',\n 'diff_Packed_Volume_Beer_Brewed_HG',\n 'diff_Packed_Volume_Filter_Total_volume',\n 'diff_Packed_Volume_Racked_Volume',\n 'diff_Beer_Brewed_HG_Filter_Total_volume',\n 'diff_Beer_Brewed_HG_Racked_Volume',\n 'diff_Filter_Total_volume_Racked_Volume',\n 'racked-brewed',\n 'racked-brewed_modified',\n 'racked_by_brewed',\n 'filtered-racked',\n 'filtered-racked_modified',\n 'filtered_by_racked',\n 'Line_7_Packed_Volume_modified',\n 'Line7_by_brewed']"
     },
     "metadata": {},
     "execution_count": 90
    }
   ],
   "source": [
    "list(data_train)"
   ]
  },
  {
   "cell_type": "code",
   "execution_count": 91,
   "metadata": {},
   "outputs": [],
   "source": [
    "train_data_a_target = pd.read_csv('Datacase1_PartA_Train.csv')\n",
    "data_train['Main_Incoming_Water'] = train_data_a_target['Main_Incoming_Water'] "
   ]
  },
  {
   "cell_type": "code",
   "execution_count": 92,
   "metadata": {
    "tags": []
   },
   "outputs": [
    {
     "output_type": "stream",
     "name": "stdout",
     "text": "Initial Features: ['Packed_Volume', 'Beer_Brewed_HG', 'Racked_Volume', 'Filter_Total_volume', 'Line_1_Packed_Volume', 'Line_2_Packed_Volume', 'Line_3_Packed_Volume', 'Line_4_Packed_Volume', 'Line_5_Packed_Volume', 'Line_6_Packed_Volume', 'pct_Line_1_Packed_Volume', 'pct_Line_2_Packed_Volume', 'pct_Line_3_Packed_Volume', 'pct_Line_4_Packed_Volume', 'pct_Line_5_Packed_Volume', 'pct_Line_6_Packed_Volume', 'pct_Packed_Volume_Beer_Brewed_HG', 'pct_Packed_Volume_Filter_Total_volume', 'pct_Packed_Volume_Racked_Volume', 'pct_Beer_Brewed_HG_Filter_Total_volume', 'pct_Beer_Brewed_HG_Racked_Volume', 'pct_Filter_Total_volume_Racked_Volume', 'Line_Packed_Volume_agg', 'Line_Volume_net', 'pct_Line_1_Beer_Brewed_HG', 'pct_Line_2_Beer_Brewed_HG', 'pct_Line_3_Beer_Brewed_HG', 'pct_Line_4_Beer_Brewed_HG', 'pct_Line_5_Beer_Brewed_HG', 'pct_Line_6_Beer_Brewed_HG', 'pct_Line_1_Filter_Total_volume', 'pct_Line_2_Filter_Total_volume', 'pct_Line_3_Filter_Total_volume', 'pct_Line_4_Filter_Total_volume', 'pct_Line_5_Filter_Total_volume', 'pct_Line_6_Filter_Total_volume', 'pct_Line_1_Racked_Volume', 'pct_Line_2_Racked_Volume', 'pct_Line_3_Racked_Volume', 'pct_Line_4_Racked_Volume', 'pct_Line_5_Racked_Volume', 'pct_Line_6_Racked_Volume', 'pct_change_Packed_Volume_Beer_Brewed_HG', 'pct_change_Packed_Volume_Filter_Total_volume', 'pct_change_Packed_Volume_Racked_Volume', 'pct_change_Beer_Brewed_HG_Filter_Total_volume', 'pct_change_Beer_Brewed_HG_Racked_Volume', 'pct_change_Filter_Total_volume_Racked_Volume', 'pct_change_Line_1_Filter_Total_volume', 'pct_change_Line_2_Filter_Total_volume', 'pct_change_Line_3_Filter_Total_volume', 'pct_change_Line_4_Filter_Total_volume', 'pct_change_Line_5_Filter_Total_volume', 'pct_change_Line_6_Filter_Total_volume', 'pct_change_Line_1_Beer_Brewed_HG', 'pct_change_Line_2_Beer_Brewed_HG', 'pct_change_Line_3_Filter_Beer_Brewed_HG', 'pct_change_Line_4_Filter_Beer_Brewed_HG', 'pct_change_Line_5_Filter_Beer_Brewed_HG', 'pct_change_Line_6_Filter_Beer_Brewed_HG', 'pct_change_Line_1_Packed_Volume', 'pct_change_Line_2_Packed_Volume', 'pct_change_Line_3_Packed_Volume', 'pct_change_Line_4_Packed_Volume', 'pct_change_Line_5_Packed_Volume', 'pct_change_Line_6_Packed_Volume', 'pct_change_Line_1_Racked_Volume', 'pct_change_Line_2_Racked_Volume', 'pct_change_Line_3_Racked_Volume', 'pct_change_Line_4_Racked_Volume', 'pct_change_Line_5_Racked_Volume', 'pct_change_Line_6_Racked_Volume', 'diff_Packed_Volume_Beer_Brewed_HG', 'diff_Packed_Volume_Filter_Total_volume', 'diff_Packed_Volume_Racked_Volume', 'diff_Beer_Brewed_HG_Filter_Total_volume', 'diff_Beer_Brewed_HG_Racked_Volume', 'diff_Filter_Total_volume_Racked_Volume', 'racked-brewed', 'racked-brewed_modified', 'racked_by_brewed', 'filtered-racked', 'filtered-racked_modified', 'filtered_by_racked', 'Line_7_Packed_Volume_modified', 'Line7_by_brewed']\n"
    }
   ],
   "source": [
    "_X=data_train.drop(columns=['Observation_Id','Main_Incoming_Water','prediction_flag']).fillna(0)\n",
    "\n",
    "_y = data_train['Main_Incoming_Water']\n",
    "\n",
    "_features=list(_X);print('Initial Features:',_features)"
   ]
  },
  {
   "cell_type": "code",
   "execution_count": 93,
   "metadata": {},
   "outputs": [],
   "source": [
    "# Test Train data split \n",
    "_X=_X[_features]\n",
    "_X_train,_X_test,_y_train,_y_test = model_selection.train_test_split(_X,_y,random_state=42,test_size=0.2);\n",
    "#display(\"Value Counts (Train):\",_y_train.value_counts())\n",
    "#display(\"Value Counts (Test):\",_y_test.value_counts())"
   ]
  },
  {
   "cell_type": "code",
   "execution_count": 94,
   "metadata": {},
   "outputs": [],
   "source": [
    "# Random Forest Regressor\n",
    "from sklearn.ensemble import RandomForestRegressor\n",
    "randommodel = RandomForestRegressor(n_jobs=-1)\n",
    "randommodel.fit(_X_train, _y_train);\n",
    "_p_test = randommodel.predict(_X_test)\n"
   ]
  },
  {
   "cell_type": "code",
   "execution_count": 95,
   "metadata": {
    "tags": []
   },
   "outputs": [
    {
     "output_type": "stream",
     "name": "stdout",
     "text": "Mean Absolute Error (MAE): 0.6970453476000005\nMean Squared Error (MSE): 10.57550204393099\nRoot Mean Squared Error (RMSE): 3.2519996992513684\nR-squared: 0.8102361264214799\nAdjusted R-squared: 0.7707211309547664\n"
    }
   ],
   "source": [
    "import numpy as np\n",
    "from sklearn import metrics\n",
    "\n",
    "print('Mean Absolute Error (MAE):', metrics.mean_absolute_error(_y_test, _p_test))\n",
    "print('Mean Squared Error (MSE):', metrics.mean_squared_error(_y_test, _p_test))\n",
    "print('Root Mean Squared Error (RMSE):', np.sqrt(metrics.mean_squared_error(_y_test, _p_test)))\n",
    "print('R-squared:', randommodel.score(_X_test, _y_test))\n",
    "print('Adjusted R-squared:', 1 - (1-randommodel.score(_X_test, _y_test))*(len(_y_test)-1)/(len(_y_test)-_X_test.shape[1]-1))\n"
   ]
  },
  {
   "cell_type": "code",
   "execution_count": 96,
   "metadata": {
    "tags": []
   },
   "outputs": [
    {
     "output_type": "stream",
     "name": "stdout",
     "text": "importance\nPacked_Volume                                   0.511791\npct_change_Packed_Volume_Filter_Total_volume    0.300569\nLine_Volume_net                                 0.009670\npct_change_Line_6_Packed_Volume                 0.009130\npct_Packed_Volume_Filter_Total_volume           0.008903\npct_change_Line_3_Packed_Volume                 0.007237\npct_change_Packed_Volume_Beer_Brewed_HG         0.006974\ndiff_Packed_Volume_Filter_Total_volume          0.005940\npct_Line_6_Packed_Volume                        0.005843\nLine_6_Packed_Volume                            0.005374\nLine_Packed_Volume_agg                          0.004945\nBeer_Brewed_HG                                  0.004786\ndiff_Packed_Volume_Beer_Brewed_HG               0.004765\npct_Packed_Volume_Beer_Brewed_HG                0.004698\nRacked_Volume                                   0.004474\npct_change_Packed_Volume_Racked_Volume          0.004424\npct_Line_3_Packed_Volume                        0.004275\npct_Packed_Volume_Racked_Volume                 0.004056\nLine7_by_brewed                                 0.003284\nFilter_Total_volume                             0.003188\ndiff_Packed_Volume_Racked_Volume                0.003112\npct_Line_5_Racked_Volume                        0.003101\npct_Line_4_Racked_Volume                        0.003038\npct_change_Line_4_Racked_Volume                 0.002984\npct_change_Line_5_Racked_Volume                 0.002941\npct_Line_6_Racked_Volume                        0.002569\npct_change_Line_5_Packed_Volume                 0.002461\npct_change_Line_6_Racked_Volume                 0.002242\npct_Line_3_Beer_Brewed_HG                       0.002161\nLine_1_Packed_Volume                            0.002012\n...                                                  ...\npct_change_Line_4_Filter_Total_volume           0.001097\npct_change_Line_1_Beer_Brewed_HG                0.001072\npct_Line_2_Beer_Brewed_HG                       0.001066\nracked-brewed                                   0.001007\npct_Line_6_Filter_Total_volume                  0.000950\npct_Filter_Total_volume_Racked_Volume           0.000936\nfiltered-racked                                 0.000922\npct_change_Line_5_Filter_Beer_Brewed_HG         0.000906\ndiff_Beer_Brewed_HG_Filter_Total_volume         0.000861\npct_change_Beer_Brewed_HG_Racked_Volume         0.000850\npct_Line_4_Filter_Total_volume                  0.000844\npct_change_Line_4_Packed_Volume                 0.000834\npct_Line_4_Beer_Brewed_HG                       0.000812\npct_change_Line_6_Filter_Beer_Brewed_HG         0.000786\npct_change_Line_3_Racked_Volume                 0.000762\npct_change_Line_3_Filter_Total_volume           0.000752\npct_change_Line_3_Filter_Beer_Brewed_HG         0.000727\npct_change_Line_1_Packed_Volume                 0.000718\npct_Line_2_Packed_Volume                        0.000699\npct_change_Line_2_Packed_Volume                 0.000697\npct_Line_2_Racked_Volume                        0.000691\nracked-brewed_modified                          0.000675\npct_Line_1_Packed_Volume                        0.000660\ndiff_Beer_Brewed_HG_Racked_Volume               0.000652\nracked_by_brewed                                0.000630\nfiltered_by_racked                              0.000496\npct_Beer_Brewed_HG_Racked_Volume                0.000479\nLine_2_Packed_Volume                            0.000474\npct_Line_1_Beer_Brewed_HG                       0.000472\nLine_7_Packed_Volume_modified                   0.000342\n\n[86 rows x 1 columns]\n"
    }
   ],
   "source": [
    "_feature_importances = pd.DataFrame(randommodel.feature_importances_,index = _X_train.columns, columns=['importance']).sort_values('importance',ascending=False);print(_feature_importances)"
   ]
  },
  {
   "cell_type": "code",
   "execution_count": 97,
   "metadata": {
    "tags": []
   },
   "outputs": [
    {
     "output_type": "stream",
     "name": "stdout",
     "text": "[17:14:02] WARNING: C:/Jenkins/workspace/xgboost-win64_release_0.90/src/objective/regression_obj.cu:152: reg:linear is now deprecated in favor of reg:squarederror.\n"
    }
   ],
   "source": [
    "#%% XGboost\n",
    "\n",
    "from xgboost import XGBRegressor\n",
    "xgbmodel = XGBRegressor()\n",
    "xgbmodel.fit(_X_train, _y_train)\n",
    "_p_test = xgbmodel.predict(_X_test)\n"
   ]
  },
  {
   "cell_type": "code",
   "execution_count": 98,
   "metadata": {
    "tags": []
   },
   "outputs": [
    {
     "output_type": "stream",
     "name": "stdout",
     "text": "Mean Absolute Error (MAE): 0.7712924517976381\nMean Squared Error (MSE): 10.548399906626662\nRoot Mean Squared Error (RMSE): 3.2478300304398107\nR-squared: 0.8107224396514109\nAdjusted R-squared: 0.7713087103778549\n"
    }
   ],
   "source": [
    "import numpy as np\n",
    "from sklearn import metrics\n",
    "\n",
    "print('Mean Absolute Error (MAE):', metrics.mean_absolute_error(_y_test, _p_test))\n",
    "print('Mean Squared Error (MSE):', metrics.mean_squared_error(_y_test, _p_test))\n",
    "print('Root Mean Squared Error (RMSE):', np.sqrt(metrics.mean_squared_error(_y_test, _p_test)))\n",
    "print('R-squared:', xgbmodel.score(_X_test, _y_test))\n",
    "print('Adjusted R-squared:', 1 - (1-xgbmodel.score(_X_test, _y_test))*(len(_y_test)-1)/(len(_y_test)-_X_test.shape[1]-1))\n"
   ]
  },
  {
   "cell_type": "code",
   "execution_count": 99,
   "metadata": {
    "tags": []
   },
   "outputs": [
    {
     "output_type": "stream",
     "name": "stdout",
     "text": "importance\npct_change_Packed_Volume_Filter_Total_volume    0.397095\nPacked_Volume                                   0.198560\npct_change_Packed_Volume_Beer_Brewed_HG         0.078702\npct_Line_3_Packed_Volume                        0.018331\npct_Packed_Volume_Filter_Total_volume           0.016047\nBeer_Brewed_HG                                  0.015195\npct_Line_6_Packed_Volume                        0.014606\npct_Line_2_Beer_Brewed_HG                       0.013500\nRacked_Volume                                   0.013488\npct_Line_3_Racked_Volume                        0.012903\npct_Line_4_Beer_Brewed_HG                       0.011898\npct_Line_1_Racked_Volume                        0.010119\npct_Line_1_Filter_Total_volume                  0.009552\npct_Line_5_Racked_Volume                        0.008581\npct_Line_6_Beer_Brewed_HG                       0.008496\nLine_Packed_Volume_agg                          0.007823\npct_change_Line_1_Racked_Volume                 0.007806\npct_Line_4_Racked_Volume                        0.007801\npct_Line_2_Racked_Volume                        0.007361\npct_Packed_Volume_Racked_Volume                 0.007338\nLine_6_Packed_Volume                            0.006825\nLine_2_Packed_Volume                            0.006746\npct_Line_1_Beer_Brewed_HG                       0.006683\nLine_4_Packed_Volume                            0.006663\npct_Line_3_Filter_Total_volume                  0.006600\nLine_Volume_net                                 0.006396\npct_Packed_Volume_Beer_Brewed_HG                0.005691\npct_change_Line_4_Filter_Beer_Brewed_HG         0.005603\npct_Line_6_Racked_Volume                        0.005568\npct_Line_4_Filter_Total_volume                  0.005548\n...                                                  ...\npct_change_Line_3_Filter_Beer_Brewed_HG         0.000868\npct_change_Line_3_Filter_Total_volume           0.000863\npct_change_Line_2_Filter_Total_volume           0.000847\npct_Line_5_Beer_Brewed_HG                       0.000707\npct_Line_2_Filter_Total_volume                  0.000615\nracked-brewed                                   0.000310\ndiff_Beer_Brewed_HG_Racked_Volume               0.000000\nLine_7_Packed_Volume_modified                   0.000000\ndiff_Beer_Brewed_HG_Filter_Total_volume         0.000000\nfiltered-racked_modified                        0.000000\ndiff_Filter_Total_volume_Racked_Volume          0.000000\nfiltered_by_racked                              0.000000\nracked-brewed_modified                          0.000000\nracked_by_brewed                                0.000000\ndiff_Packed_Volume_Filter_Total_volume          0.000000\ndiff_Packed_Volume_Racked_Volume                0.000000\npct_change_Line_6_Packed_Volume                 0.000000\ndiff_Packed_Volume_Beer_Brewed_HG               0.000000\npct_change_Line_6_Racked_Volume                 0.000000\npct_change_Line_2_Racked_Volume                 0.000000\npct_change_Beer_Brewed_HG_Racked_Volume         0.000000\npct_change_Line_5_Packed_Volume                 0.000000\npct_change_Line_3_Packed_Volume                 0.000000\npct_change_Line_2_Packed_Volume                 0.000000\npct_change_Line_1_Packed_Volume                 0.000000\npct_change_Line_6_Filter_Beer_Brewed_HG         0.000000\npct_change_Line_6_Filter_Total_volume           0.000000\npct_change_Line_5_Filter_Total_volume           0.000000\npct_change_Filter_Total_volume_Racked_Volume    0.000000\npct_change_Line_4_Packed_Volume                 0.000000\n\n[86 rows x 1 columns]\n"
    }
   ],
   "source": [
    "_feature_importances = pd.DataFrame(xgbmodel.feature_importances_,index = _X_train.columns, columns=['importance']).sort_values('importance',ascending=False);print(_feature_importances)"
   ]
  },
  {
   "cell_type": "code",
   "execution_count": 100,
   "metadata": {},
   "outputs": [],
   "source": [
    "_X_predict=data_predict.drop(columns=['Observation_Id','prediction_flag']).fillna(0)\n"
   ]
  },
  {
   "cell_type": "code",
   "execution_count": 101,
   "metadata": {},
   "outputs": [],
   "source": [
    "_p_predict=xgbmodel.predict(_X_predict)"
   ]
  },
  {
   "cell_type": "code",
   "execution_count": 102,
   "metadata": {},
   "outputs": [],
   "source": [
    "output=pd.DataFrame(_p_predict).reset_index().rename(columns={0:\"Main_Incoming_Water\"})"
   ]
  },
  {
   "cell_type": "code",
   "execution_count": 103,
   "metadata": {},
   "outputs": [],
   "source": [
    "output['Observation_Id']=data_predict['Observation_Id']"
   ]
  },
  {
   "cell_type": "code",
   "execution_count": 104,
   "metadata": {},
   "outputs": [],
   "source": [
    "output.to_csv('test_devops.csv')\n"
   ]
  }
 ],
 "metadata": {
  "kernelspec": {
   "display_name": "Python 3",
   "language": "python",
   "name": "python3"
  },
  "language_info": {
   "codemirror_mode": {
    "name": "ipython",
    "version": 3
   },
   "file_extension": ".py",
   "mimetype": "text/x-python",
   "name": "python",
   "nbconvert_exporter": "python",
   "pygments_lexer": "ipython3",
   "version": "3.7.3-final"
  }
 },
 "nbformat": 4,
 "nbformat_minor": 2
}